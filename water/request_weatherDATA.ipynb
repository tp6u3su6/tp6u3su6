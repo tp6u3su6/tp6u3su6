{
 "cells": [
  {
   "cell_type": "code",
   "execution_count": 49,
   "id": "34de37c8-5d27-482c-9be6-8a205b366e55",
   "metadata": {},
   "outputs": [],
   "source": [
    "import pandas as pd\n",
    "import requests\n",
    "from datetime import datetime\n",
    "from obspy.geodetics.base import gps2dist_azimuth\n",
    "import matplotlib.pyplot as plt"
   ]
  },
  {
   "cell_type": "code",
   "execution_count": 51,
   "id": "b518f3ae-e21e-4f3a-a0b6-bb18564c0854",
   "metadata": {
    "scrolled": false
   },
   "outputs": [
    {
     "name": "stderr",
     "output_type": "stream",
     "text": [
      "C:\\Users\\yini\\anaconda3\\envs\\obspy\\lib\\site-packages\\ipykernel_launcher.py:2: FutureWarning: Inferring datetime64[ns] from data containing strings is deprecated and will be removed in a future version. To retain the old behavior explicitly pass Series(data, dtype={value.dtype})\n",
      "  \n"
     ]
    },
    {
     "name": "stdout",
     "output_type": "stream",
     "text": [
      "LATB\n",
      "LXIB\n",
      "NACB\n",
      "NNSB\n",
      "SSLB\n",
      "VWDT\n",
      "WARB\n",
      "WUSB\n",
      "EAH\n",
      "EWT\n",
      "HWA\n",
      "EGFH\n",
      "ETLH\n",
      "NDT\n",
      "SHUL\n",
      "ENA\n",
      "ENT\n",
      "ENT\n",
      "ESL\n",
      "ETL\n",
      "ETM\n",
      "TWD\n",
      "NNS\n",
      "TWC\n",
      "TWE\n",
      "WHF\n",
      "F015\n",
      "F026\n",
      "F067\n"
     ]
    },
    {
     "data": {
      "text/plain": [
       "<AxesSubplot:xlabel='2', ylabel='1'>"
      ]
     },
     "execution_count": 51,
     "metadata": {},
     "output_type": "execute_result"
    },
    {
     "data": {
      "text/plain": [
       "<Figure size 432x288 with 0 Axes>"
      ]
     },
     "metadata": {},
     "output_type": "display_data"
    },
    {
     "data": {
      "image/png": "[encoded data removed]",
      "text/plain": [
       "<Figure size 432x288 with 1 Axes>"
      ]
     },
     "metadata": {
      "needs_background": "light"
     },
     "output_type": "display_data"
    },
    {
     "data": {
      "image/png": "[encoded data removed]",
      "text/plain": [
       "<Figure size 432x288 with 1 Axes>"
      ]
     },
     "metadata": {
      "needs_background": "light"
     },
     "output_type": "display_data"
    }
   ],
   "source": [
    "#read weather station information\n",
    "rainsta_exc=pd.read_excel('C:/Users/yini/Desktop/rainfall/rainfall_station.xlsx')\n",
    "renddate=pd.to_datetime(rainsta_exc['撤站日期']).dt.strftime(\"%Y%m%d\").fillna(99999999)\n",
    "rainsta_exc=rainsta_exc[renddate.astype(int)>=20170101].reset_index()\n",
    "rstacode=rainsta_exc['站號']\n",
    "rstaname=rainsta_exc['站名']\n",
    "rlon=rainsta_exc['經度']\n",
    "rlat=rainsta_exc['緯度']\n",
    "rstartdate=pd.to_datetime(rainsta_exc['資料起始日期']).dt.strftime(\"%Y%m%d\")\n",
    "renddate=pd.to_datetime(rainsta_exc['撤站日期']).dt.strftime(\"%Y%m%d\").fillna(99999999)\n",
    "\n",
    "\n",
    "#read seismic station information\n",
    "seissta_exc=pd.read_csv('C:/Users/yini/Desktop/rainfall/stn_info_hualien',header=None,sep=',')\n",
    "sstacode=seissta_exc[0]\n",
    "slon=seissta_exc[2]\n",
    "slat=seissta_exc[1]\n",
    "\n",
    "chosen_stacode=[]\n",
    "chosen_staname=[]\n",
    "chosen_lon=[]\n",
    "chosen_lat=[]\n",
    "for i in range(len(sstacode)):\n",
    "    print(sstacode[i])\n",
    "    for j in range(len(rstacode)):\n",
    "        dis=gps2dist_azimuth(slat[i],slon[i],rlat[j],rlon[j])[0]\n",
    "        if dis/1000 <= 15:\n",
    "            chosen_stacode.append(rstacode[j])\n",
    "            chosen_staname.append(rstaname[j])\n",
    "            chosen_lon.append(rlon[j])\n",
    "            chosen_lat.append(rlat[j])\n",
    "chosen=pd.DataFrame({'station code':chosen_stacode,'station name':chosen_staname,'longitude':chosen_lon,'latitude':chosen_lat})\n",
    "chosen=chosen.drop_duplicates().reset_index()\n",
    "figure = plt.figure()\n",
    "chosen.plot.scatter(x='longitude',y='latitude')\n",
    "seissta_exc.plot.scatter(x=2,y=1,c='orange')"
   ]
  },
  {
   "cell_type": "code",
   "execution_count": null,
   "id": "4d2e0673-2f51-4274-99df-57813aae3f14",
   "metadata": {},
   "outputs": [],
   "source": []
  },
  {
   "cell_type": "code",
   "execution_count": 8,
   "id": "fcc6d896-6156-40fa-b5c2-e9e520066c25",
   "metadata": {},
   "outputs": [
    {
     "name": "stdout",
     "output_type": "stream",
     "text": [
      "%25E8%258A%25B1%25E8%2593%25AE\n",
      "%25E8%2598%2587%25E6%25BE%25B3\n",
      "%25E5%25A4%25A7%25E6%25AD%25A6\n"
     ]
    }
   ],
   "source": [
    "#weather station list\n",
    "def get_area_stations():\n",
    "    area=['https://e-service.cwb.gov.tw/HistoryDataQuery/MonthDataController.do?command=viewMain&station=466990&stname=%25E8%258A%25B1%25E8%2593%25AE&datepicker=2021-01#',\n",
    "         'https://e-service.cwb.gov.tw/HistoryDataQuery/MonthDataController.do?command=viewMain&station=467060&stname=%25E8%2598%2587%25E6%25BE%25B3&datepicker=2021-01#',\n",
    "         'https://e-service.cwb.gov.tw/HistoryDataQuery/MonthDataController.do?command=viewMain&station=467540&stname=%25E5%25A4%25A7%25E6%25AD%25A6&datepicker=2021-01#',\n",
    "         'https://e-service.cwb.gov.tw/HistoryDataQuery/MonthDataController.do?command=viewMain&station=466910&stname=%25E9%259E%258D%25E9%2583%25A8&datepicker=2021-01',\n",
    "         'https://e-service.cwb.gov.tw/HistoryDataQuery/MonthDataController.do?command=viewMain&station=466880&stname=%25E6%259D%25BF%25E6%25A9%258B&datepicker=2021-01',\n",
    "         'https://e-service.cwb.gov.tw/HistoryDataQuery/MonthDataController.do?command=viewMain&station=467490&stname=%25E8%2587%25BA%25E4%25B8%25AD&datepicker=2021-01',\n",
    "         'https://e-service.cwb.gov.tw/HistoryDataQuery/MonthDataController.do?command=viewMain&station=467410&stname=%25E8%2587%25BA%25E5%258D%2597&datepicker=2021-01',\n",
    "         'https://e-service.cwb.gov.tw/HistoryDataQuery/MonthDataController.do?command=viewMain&station=467440&stname=%25E9%25AB%2598%25E9%259B%2584&datepicker=2021-01',\n",
    "         'https://e-service.cwb.gov.tw/HistoryDataQuery/MonthDataController.do?command=viewMain&station=466940&stname=%25E5%259F%25BA%25E9%259A%2586&datepicker=2021-01',\n",
    "         'https://e-service.cwb.gov.tw/HistoryDataQuery/MonthDataController.do?command=viewMain&station=467050&stname=%25E6%2596%25B0%25E5%25B1%258B&datepicker=2021-01',]\n",
    "    area_l=['花蓮縣','宜蘭縣','台東縣','臺北市','新北市','臺中市','臺南市','高雄市','基隆市','桃園市']\n",
    "    sta_l=[]\n",
    "    for url in area:\n",
    "        stname.append(url.split('&')[-2].split('=')[-1])\n",
    "        res=requests.get(url)\n",
    "        df=pd.read_html(res.text)[0]\n",
    "        df=df[2][0].split()\n",
    "\n",
    "        cc=df.copy()\n",
    "        for i in range(len(cc)):\n",
    "            if cc[i]=='(撤銷站)':\n",
    "                cc[i-1]=cc[i-1]+''+cc[i]\n",
    "        stas=list(filter(lambda x: x!='(撤銷站)' , cc))\n",
    "        sta_l.append(stas)\n",
    "    station_l=pd.DataFrame({})\n",
    "    return station_l"
   ]
  },
  {
   "cell_type": "code",
   "execution_count": 3,
   "id": "cb8f8f69-4a72-4e77-b07e-a85b45d8a3b8",
   "metadata": {},
   "outputs": [],
   "source": [
    "#get date list\n",
    "def get_mon_list(startdate,enddate='2021-12-01'):\n",
    "    date_l=[datetime.strftime(x,'%Y-%m') for x in list(pd.date_range(start=startdate, end=enddate, freq='M'))]\n",
    "    return date_l"
   ]
  },
  {
   "cell_type": "code",
   "execution_count": 4,
   "id": "e38b5cb2-3d70-4955-a390-082398f091fc",
   "metadata": {},
   "outputs": [
    {
     "data": {
      "text/plain": [
       "[['466990_花蓮',\n",
       "  'C0T790_大禹嶺',\n",
       "  'C0T820_天祥',\n",
       "  'C0T9D0_和中',\n",
       "  'C0T9E0_大坑',\n",
       "  'C0T9F0_水璉',\n",
       "  'C0T9G0_鳳林山',\n",
       "  'C0T9H0_加路蘭山',\n",
       "  'C0T9I0_豐濱',\n",
       "  'C0T9M0_靜浦',\n",
       "  'C0T9N0_富里',\n",
       "  'C0T870_鯉魚潭',\n",
       "  'C0T900_西林',\n",
       "  'C0T960_光復',\n",
       "  'C0T9A0_月眉山',\n",
       "  'C0T9B0_水源',\n",
       "  'C0Z020_明里',\n",
       "  'C0Z050_佳心',\n",
       "  'C0Z061_玉里',\n",
       "  'C0Z070_舞鶴',\n",
       "  'C0Z080_富源',\n",
       "  'C0Z100_東華',\n",
       "  'C0Z150_吉安光華',\n",
       "  'C0Z160_鳳林',\n",
       "  'C0Z170_卓溪',\n",
       "  'C0Z180_新城',\n",
       "  'C0Z190_富世',\n",
       "  'C0Z200_萬榮',\n",
       "  'C0Z210_瑞穗',\n",
       "  'C0Z220_和平林道',\n",
       "  'C0Z230_和平',\n",
       "  'C0Z250_瑞穗林道',\n",
       "  'C0Z270_蕃薯寮',\n",
       "  'C0Z280_德武',\n",
       "  'C0Z290_赤柯山',\n",
       "  'C0Z300_東里',\n",
       "  'C0Z310_清水斷崖',\n",
       "  'C0Z320_清水林道',\n",
       "  'C0Z330_安通山',\n",
       "  'C1S850_豐南',\n",
       "  'C1T800_洛韶',\n",
       "  'C1T810_慈恩',\n",
       "  'C1T830_布洛灣',\n",
       "  'C1T940_大觀',\n",
       "  'C1T950_太安',\n",
       "  'C1T970_大農',\n",
       "  'C1T980_龍澗',\n",
       "  'C1T990_高寮',\n",
       "  'C1TA00_太魯閣',\n",
       "  'C1T920_中興',\n",
       "  'C1Z110_三棧',\n",
       "  'C1Z120_壽豐',\n",
       "  'C1Z130_銅門',\n",
       "  'C1Z140_荖溪',\n",
       "  'C1Z240_中平林道',\n",
       "  'C1Z030_紅葉',\n",
       "  'C1Z040_立山',\n",
       "  'C1Z090_三棧(撤銷站)',\n",
       "  'C1Z010_卓樂(撤銷站)',\n",
       "  'C1Z020_明里(撤銷站)',\n",
       "  'C1T930_鳳林(撤銷站)',\n",
       "  'C1T850_吉安(撤銷站)',\n",
       "  'C1T860_銅門(撤銷站)',\n",
       "  'C1T880_吳全城(撤銷站)',\n",
       "  'C1T890_壽豐(撤銷站)',\n",
       "  'C1T900_西林(撤銷站)',\n",
       "  'C1T910_東壙(撤銷站)',\n",
       "  'C0T9C0_富世(撤銷站)',\n",
       "  'C0T841_新城(撤銷站)'],\n",
       " ['467060_蘇澳',\n",
       "  '467080_宜蘭',\n",
       "  'C0U520_雙連埤',\n",
       "  'C0U600_礁溪',\n",
       "  'C0U650_玉蘭',\n",
       "  'C0U710_太平山',\n",
       "  'C0U720_南山',\n",
       "  'C0U750_龜山島',\n",
       "  'C0U760_東澳',\n",
       "  'C0U770_南澳',\n",
       "  'C0U780_五結',\n",
       "  'C0U860_頭城',\n",
       "  'C0U870_大礁溪',\n",
       "  'C0U890_三星',\n",
       "  'C0U900_內城',\n",
       "  'C0U910_冬山',\n",
       "  'C0U940_羅東',\n",
       "  'C0U950_鶯子嶺',\n",
       "  'C0U960_翠峰湖',\n",
       "  'C0U970_大福',\n",
       "  'C0U980_坪林石牌',\n",
       "  'C0U990_員山',\n",
       "  'C0UA00_土場',\n",
       "  'C0UA10_鴛鴦湖',\n",
       "  'C0UA20_多加屯',\n",
       "  'C0UA30_白嶺',\n",
       "  'C0UA40_西德山',\n",
       "  'C0UA50_西帽山',\n",
       "  'C0UA60_樟樹山',\n",
       "  'C0UA70_桃源谷',\n",
       "  'C0UB00_淡江大學蘭陽校園',\n",
       "  'C1U501_牛鬥',\n",
       "  'C1U670_寒溪',\n",
       "  'C1U690_新寮',\n",
       "  'C1U880_北關',\n",
       "  'C1U920_思源',\n",
       "  'C1U840_東澳嶺',\n",
       "  'C1U850_觀音海岸',\n",
       "  'C1U860_頭城(撤銷站)',\n",
       "  'C1U720_南山(撤銷站)',\n",
       "  'C1U830_烏石鼻(撤銷站)',\n",
       "  'C1U680_冬山(撤銷站)',\n",
       "  'C1U521_雙連埤(撤銷站)',\n",
       "  'C1U580_北關(撤銷站)',\n",
       "  'C1U590_頭城(撤銷站)',\n",
       "  'C1U610_大礁溪(撤銷站)',\n",
       "  'C1U620_壯圍(撤銷站)',\n",
       "  'C1U630_再連(撤銷站)',\n",
       "  'C1U660_三星(撤銷站)',\n",
       "  'C0U730_思源(撤銷站)',\n",
       "  'C0U680_冬山(撤銷站)',\n",
       "  'C0U640_羅東(撤銷站)'],\n",
       " ['467540_大武',\n",
       "  '467610_成功',\n",
       "  '467620_蘭嶼',\n",
       "  '467660_臺東',\n",
       "  'C0S660_下馬',\n",
       "  'C0S690_太麻里',\n",
       "  'C0S700_知本',\n",
       "  'C0S710_鹿野',\n",
       "  'C0S730_綠島',\n",
       "  'C0S740_池上',\n",
       "  'C0S750_向陽',\n",
       "  'C0S760_紅石',\n",
       "  'C0S770_大溪山',\n",
       "  'C0S790_金崙',\n",
       "  'C0S810_東河',\n",
       "  'C0S830_長濱',\n",
       "  'C0S840_南田',\n",
       "  'C0S890_關山',\n",
       "  'C0S900_蘭嶼高中',\n",
       "  'C0S910_蘭嶼燈塔',\n",
       "  'C0S920_金峰嘉蘭',\n",
       "  'C0S930_延平',\n",
       "  'C0S940_石寧山',\n",
       "  'C0S950_七塊厝',\n",
       "  'C0S960_香蘭',\n",
       "  'C0S970_加津林',\n",
       "  'C0S980_勝林山',\n",
       "  'C0S990_山豬窟',\n",
       "  'C0SA00_歷坵',\n",
       "  'C0SA10_檳榔四格山',\n",
       "  'C0SA20_金崙山',\n",
       "  'C0SA30_都歷',\n",
       "  'C0SA40_瑞和',\n",
       "  'C0SA60_知本（水試所）',\n",
       "  'C0SA80_土坂',\n",
       "  'C0SA90_達仁林場',\n",
       "  'C1S670_摩天',\n",
       "  'C1S800_華源',\n",
       "  'C1S820_金峰',\n",
       "  'C1S860_利嘉',\n",
       "  'C1S870_南美山',\n",
       "  'C1S880_壽卡',\n",
       "  'C1SA50_利嘉林道',\n",
       "  'C1SA70_都蘭',\n",
       "  'C1S620_土阪(撤銷站)',\n",
       "  'C1S630_都蘭(撤銷站)',\n",
       "  'C1S660_下馬(撤銷站)',\n",
       "  'C0S680_紅葉山(撤銷站)']]"
      ]
     },
     "execution_count": 4,
     "metadata": {},
     "output_type": "execute_result"
    }
   ],
   "source": [
    "def get_monthly_weather_data():\n",
    "    "
   ]
  },
  {
   "cell_type": "code",
   "execution_count": 17,
   "id": "dec3ce34-ad30-4f17-8534-d181a3f028df",
   "metadata": {},
   "outputs": [],
   "source": [
    "import requests\n",
    "from bs4 import BeautifulSoup\n",
    "import pandas as pd\n",
    "import csv\n",
    "\n",
    "r = requests.get('https://e-service.cwb.gov.tw/HistoryDataQuery/MonthDataController.do?command=viewMain&station=466910&stname=%25E9%259E%258D%25E9%2583%25A8&datepicker=2019-08')\n",
    "csvfile=\"test.csv\"\n",
    "r.encoding=\"utf-8\"\n",
    "soup=BeautifulSoup(r.text,\"lxml\")\n",
    "tag_table=soup.find(id=\"MyTable\")\n",
    "rows=tag_table.findAll(\"tr\")\n",
    "\n",
    "with open(csvfile,\"w+\",newline=\"\",encoding=\"utf-8\") as fp:\n",
    "    writer=csv.writer(fp)\n",
    "    for row in rows:\n",
    "        rowList=[]\n",
    "        for cell in row.findAll([\"td\",\"th\"]):\n",
    "            rowList.append(cell.get_text().replace(\"\\n\",\"\").replace(\"\\r\",\"\"))\n",
    "        writer.writerow(rowList)"
   ]
  },
  {
   "cell_type": "code",
   "execution_count": 16,
   "id": "08a1b026-de11-4acd-8017-8fce338edfd1",
   "metadata": {},
   "outputs": [
    {
     "data": {
      "text/plain": [
       "'3.8\\xa0'"
      ]
     },
     "execution_count": 16,
     "metadata": {},
     "output_type": "execute_result"
    }
   ],
   "source": [
    "cell.get_text().replace('\\n','').replace('\\r','')"
   ]
  },
  {
   "cell_type": "code",
   "execution_count": null,
   "id": "604050cf-93eb-404c-a9b2-26d0d2e6ec54",
   "metadata": {},
   "outputs": [],
   "source": []
  }
 ],
 "metadata": {
  "kernelspec": {
   "display_name": "Python 3 (ipykernel)",
   "language": "python",
   "name": "python3"
  },
  "language_info": {
   "codemirror_mode": {
    "name": "ipython",
    "version": 3
   },
   "file_extension": ".py",
   "mimetype": "text/x-python",
   "name": "python",
   "nbconvert_exporter": "python",
   "pygments_lexer": "ipython3",
   "version": "3.7.10"
  }
 },
 "nbformat": 4,
 "nbformat_minor": 5
}
