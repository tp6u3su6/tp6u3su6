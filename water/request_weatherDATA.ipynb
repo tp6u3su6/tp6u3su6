{
 "cells": [
  {
   "cell_type": "code",
   "execution_count": 1,
   "id": "34de37c8-5d27-482c-9be6-8a205b366e55",
   "metadata": {},
   "outputs": [],
   "source": [
    "import pandas as pd\n",
    "import requests, os\n",
    "from datetime import datetime\n",
    "from obspy.geodetics.base import gps2dist_azimuth\n",
    "import matplotlib.pyplot as plt\n",
    "import time\n",
    "import shutil\n",
    "from IPython.core.interactiveshell import InteractiveShell\n",
    "InteractiveShell.ast_node_interactivity = \"all\"\n",
    "pd.set_option('display.max_rows',None)"
   ]
  },
  {
   "cell_type": "code",
   "execution_count": 18,
   "id": "b518f3ae-e21e-4f3a-a0b6-bb18564c0854",
   "metadata": {},
   "outputs": [
    {
     "name": "stderr",
     "output_type": "stream",
     "text": [
      "/tmp/ipykernel_2676183/1181805998.py:4: FutureWarning: Inferring datetime64[ns] from data containing strings is deprecated and will be removed in a future version. To retain the old behavior explicitly pass Series(data, dtype=datetime64[ns])\n",
      "  rainsta_exc=pd.read_excel('rainfall_station.xlsx')\n",
      "/tmp/ipykernel_2676183/1181805998.py:41: FutureWarning: The frame.append method is deprecated and will be removed from pandas in a future version. Use pandas.concat instead.\n",
      "  chosen=chosen.append(chosen_new,ignore_index=True)\n"
     ]
    }
   ],
   "source": [
    "#read weather station information 找距地震測站15公里以內的氣象測站\n",
    "## 氣象局沒有資料: 宜蘭古魯 花蓮豐里\n",
    "\n",
    "rainsta_exc=pd.read_excel('rainfall_station.xlsx')\n",
    "renddate=pd.to_datetime(rainsta_exc['撤站日期']).dt.strftime(\"%Y%m%d\").fillna(99999999)\n",
    "rainsta_exc=rainsta_exc[renddate.astype(int)>=20120101].reset_index()\n",
    "rstacode=rainsta_exc['站號']\n",
    "rstaname=rainsta_exc['站名']\n",
    "rlon=rainsta_exc['經度']\n",
    "rlat=rainsta_exc['緯度']\n",
    "rcon=rainsta_exc['城市']\n",
    "\n",
    "#read seismic station information\n",
    "seissta_exc=pd.read_csv('/home/nancy/GMT/stn_info_hualien',header=None,sep=',')\n",
    "sstacode=seissta_exc[0]\n",
    "slon=seissta_exc[2]\n",
    "slat=seissta_exc[1]\n",
    "\n",
    "chosen_stacode=[]\n",
    "chosen_staname=[]\n",
    "chosen_lon=[]\n",
    "chosen_lat=[]\n",
    "chosen_con=[]\n",
    "for i in range(len(sstacode)):\n",
    "    #print(sstacode[i])\n",
    "    for j in range(len(rstacode)):\n",
    "        dis=gps2dist_azimuth(slat[i],slon[i],rlat[j],rlon[j])[0]\n",
    "        if dis/1000 <= 15:\n",
    "            chosen_stacode.append(str(rstacode[j]))\n",
    "            chosen_staname.append(rstaname[j])\n",
    "            chosen_lon.append(rlon[j])\n",
    "            chosen_lat.append(rlat[j])\n",
    "            chosen_con.append(rcon[j])\n",
    "chosen_new=pd.DataFrame({'station code':chosen_stacode,'Country':chosen_con,'station name':chosen_staname,\n",
    "                     'longitude':chosen_lon,'latitude':chosen_lat})\n",
    "chosen_new=chosen_new.drop_duplicates().reset_index()\n",
    "chosen_new=chosen_new.drop('index',axis=1)\n",
    "chosen_new=chosen_new.sort_values(['Country'])\n",
    "\n",
    "chosen=pd.read_csv('chosen_WeatherStation.csv',index_col=False)\n",
    "chosen=chosen.append(chosen_new,ignore_index=True)\n",
    "chosen=chosen.drop_duplicates(subset=['station code'])\n",
    "chosen.to_csv('chosen_WeatherStation.csv',encoding='utf_8_sig',index=False)\n",
    "## After, NEED get URL by self."
   ]
  },
  {
   "cell_type": "code",
   "execution_count": 29,
   "id": "e38b5cb2-3d70-4955-a390-082398f091fc",
   "metadata": {},
   "outputs": [
    {
     "data": {
      "text/plain": [
       "'WeatherStation.csv'"
      ]
     },
     "execution_count": 29,
     "metadata": {},
     "output_type": "execute_result"
    },
    {
     "name": "stdout",
     "output_type": "stream",
     "text": [
      "Download data of C1H910\n",
      "C1H910/C1H910_201201.csv\n",
      "C1H910/C1H910_201202.csv\n",
      "C1H910/C1H910_201203.csv\n",
      "C1H910/C1H910_201204.csv\n",
      "C1H910/C1H910_201205.csv\n",
      "C1H910/C1H910_201206.csv\n",
      "C1H910/C1H910_201207.csv\n",
      "C1H910/C1H910_201208.csv\n",
      "C1H910/C1H910_201209.csv\n",
      "C1H910/C1H910_201210.csv\n",
      "C1H910/C1H910_201211.csv\n",
      "C1H910/C1H910_201212.csv\n"
     ]
    }
   ],
   "source": [
    "# #get date list\n",
    "# def get_mon_list(startdate,enddate='2021-12-01'):\n",
    "#     date_l=[datetime.strftime(x,'%Y-%m') for x in list(pd.date_range(start=startdate, end=enddate, freq='M'))]\n",
    "#     return date_l\n",
    "# mon_list=get_mon_list('2012-01-01')\n",
    "\n",
    "shutil.copy('chosen_WeatherStation.csv','WeatherStation.csv')\n",
    "csv=pd.read_csv('WeatherStation.csv',index_col=False)\n",
    "rstacode=csv['station code']\n",
    "URL=csv['URL']\n",
    "startyear=2012\n",
    "\n",
    "for ii in range(len(rstacode)):\n",
    "    if not os.path.isdir(rstacode[ii]):\n",
    "        os.mkdir(rstacode[ii])\n",
    "    if not os.path.isfile('%s/%s_202112.csv' %(rstacode[ii],rstacode[ii])):\n",
    "        print('Download data of %s' %rstacode[ii])\n",
    "        for year in range(startyear,2022):\n",
    "            for mon in range(1,13):\n",
    "                url=URL[ii]+str(year)+'-'+str(mon).zfill(2)\n",
    "                res=requests.get(url)\n",
    "                df=pd.read_html(res.text)[1]\n",
    "                csvname='%s/%s_%s%s.csv'%(rstacode[ii],rstacode[ii],year,str(mon).zfill(2))\n",
    "                print(csvname)\n",
    "                df.to_csv(csvname,encoding='utf_8_sig',index=False)\n",
    "            time.sleep(5)\n",
    "            break\n",
    "        time.sleep(15)\n",
    "        break\n"
   ]
  },
  {
   "cell_type": "code",
   "execution_count": null,
   "id": "fcc6d896-6156-40fa-b5c2-e9e520066c25",
   "metadata": {},
   "outputs": [
    {
     "name": "stdout",
     "output_type": "stream",
     "text": [
      "%25E8%258A%25B1%25E8%2593%25AE\n",
      "%25E8%2598%2587%25E6%25BE%25B3\n",
      "%25E5%25A4%25A7%25E6%25AD%25A6\n"
     ]
    }
   ],
   "source": [
    "#weather station list\n",
    "def get_area_stations():\n",
    "    area=['https://e-service.cwb.gov.tw/HistoryDataQuery/MonthDataController.do?command=viewMain&station=466990&stname=%25E8%258A%25B1%25E8%2593%25AE&datepicker=2021-01#',\n",
    "         'https://e-service.cwb.gov.tw/HistoryDataQuery/MonthDataController.do?command=viewMain&station=467060&stname=%25E8%2598%2587%25E6%25BE%25B3&datepicker=2021-01#',\n",
    "         'https://e-service.cwb.gov.tw/HistoryDataQuery/MonthDataController.do?command=viewMain&station=467540&stname=%25E5%25A4%25A7%25E6%25AD%25A6&datepicker=2021-01#',\n",
    "         'https://e-service.cwb.gov.tw/HistoryDataQuery/MonthDataController.do?command=viewMain&station=466910&stname=%25E9%259E%258D%25E9%2583%25A8&datepicker=2021-01',\n",
    "         'https://e-service.cwb.gov.tw/HistoryDataQuery/MonthDataController.do?command=viewMain&station=466880&stname=%25E6%259D%25BF%25E6%25A9%258B&datepicker=2021-01',\n",
    "         'https://e-service.cwb.gov.tw/HistoryDataQuery/MonthDataController.do?command=viewMain&station=467490&stname=%25E8%2587%25BA%25E4%25B8%25AD&datepicker=2021-01',\n",
    "         'https://e-service.cwb.gov.tw/HistoryDataQuery/MonthDataController.do?command=viewMain&station=467410&stname=%25E8%2587%25BA%25E5%258D%2597&datepicker=2021-01',\n",
    "         'https://e-service.cwb.gov.tw/HistoryDataQuery/MonthDataController.do?command=viewMain&station=467440&stname=%25E9%25AB%2598%25E9%259B%2584&datepicker=2021-01',\n",
    "         'https://e-service.cwb.gov.tw/HistoryDataQuery/MonthDataController.do?command=viewMain&station=466940&stname=%25E5%259F%25BA%25E9%259A%2586&datepicker=2021-01',\n",
    "         'https://e-service.cwb.gov.tw/HistoryDataQuery/MonthDataController.do?command=viewMain&station=467050&stname=%25E6%2596%25B0%25E5%25B1%258B&datepicker=2021-01',]\n",
    "    area_l=['花蓮縣','宜蘭縣','台東縣','臺北市','新北市','臺中市','臺南市','高雄市','基隆市','桃園市']\n",
    "    sta_l=[]\n",
    "    for url in area:\n",
    "        stname.append(url.split('&')[-2].split('=')[-1])\n",
    "        res=requests.get(url)\n",
    "        df=pd.read_html(res.text)[0]\n",
    "        df=df[2][0].split()\n",
    "\n",
    "        cc=df.copy()\n",
    "        for i in range(len(cc)):\n",
    "            if cc[i]=='(撤銷站)':\n",
    "                cc[i-1]=cc[i-1]+''+cc[i]\n",
    "        stas=list(filter(lambda x: x!='(撤銷站)' , cc))\n",
    "        sta_l.append(stas)\n",
    "    station_l=pd.DataFrame({})\n",
    "    return station_l"
   ]
  },
  {
   "cell_type": "code",
   "execution_count": 47,
   "id": "dd7a3968",
   "metadata": {},
   "outputs": [
    {
     "data": {
      "text/plain": [
       "MultiIndex([('Unnamed: 0_level_0',          '觀測時間(day)',        'ObsTime'),\n",
       "            (             'press',          '測站氣壓(hPa)',        'StnPres'),\n",
       "            (             'press',         '海平面氣壓(hPa)',        'SeaPres'),\n",
       "            (             'press',        '測站最高氣壓(hPa)',     'StnPresMax'),\n",
       "            (             'press',      '測站最高氣壓時間(LST)', 'StnPresMaxTime'),\n",
       "            (             'press',        '測站最低氣壓(hPa)',     'StnPresMin'),\n",
       "            (             'press',      '測站最低氣壓時間(LST)', 'StnPresMinTime'),\n",
       "            (       'temperature',              '氣溫(℃)',    'Temperature'),\n",
       "            (       'temperature',            '最高氣溫(℃)',          'T Max'),\n",
       "            (       'temperature',        '最高氣溫時間(LST)',     'T Max Time'),\n",
       "            (       'temperature',            '最低氣溫(℃)',          'T Min'),\n",
       "            (       'temperature',        '最低氣溫時間(LST)',     'T Min Time'),\n",
       "            (         'Dew Point',            '露點溫度(℃)',   'Td dew point'),\n",
       "            (                'RH',            '相對溼度(%)',             'RH'),\n",
       "            (                'RH',          '最小相對溼度(%)',          'RHMin'),\n",
       "            (                'RH',      '最小相對溼度時間(LST)',      'RHMinTime'),\n",
       "            (             'WS/WD',            '風速(m/s)',             'WS'),\n",
       "            (             'WS/WD',      '風向(360degree)',             'WD'),\n",
       "            (             'WS/WD',          '最大陣風(m/s)',         'WSGust'),\n",
       "            (             'WS/WD',  '最大陣風風向(360degree)',         'WDGust'),\n",
       "            (             'WS/WD',      '最大陣風風速時間(LST)',      'WGustTime'),\n",
       "            (             'Precp',            '降水量(mm)',          'Precp'),\n",
       "            (             'Precp',         '降水時數(hour)',      'PrecpHour'),\n",
       "            (             'Precp',       '最大十分鐘降水量(mm)',     'PrecpMax10'),\n",
       "            (             'Precp',  '最大十分鐘降水量起始時間(LST)', 'PrecpMax10Time'),\n",
       "            (             'Precp',      '最大六十分鐘降水量(mm)',     'PrecpMax60'),\n",
       "            (             'Precp', '最大六十分鐘降水量起始時間(LST)', 'PrecpMax60Time'),\n",
       "            (          'SunShine',         '日照時數(hour)',       'SunShine'),\n",
       "            (          'SunShine',             '日照率(%)',   'SunShineRate'),\n",
       "            (          'SunShine',       '全天空日射量(MJ/㎡)',       'GloblRad'),\n",
       "            (        'visibility',            '能見度(km)',       'VisbMean'),\n",
       "            (       'Evaperation',          'A型蒸發量(mm)',          'EvapA'),\n",
       "            (               'UVI',           '日最高紫外線指數',        'UVI Max'),\n",
       "            (               'UVI',    '日最高紫外線指數時間(LST)',   'UVI Max Time'),\n",
       "            (             'Cloud',          '總雲量(0~10)',   'Cloud Amount')],\n",
       "           )"
      ]
     },
     "execution_count": 47,
     "metadata": {},
     "output_type": "execute_result"
    }
   ],
   "source": [
    "df.columns"
   ]
  },
  {
   "cell_type": "code",
   "execution_count": 17,
   "id": "dec3ce34-ad30-4f17-8534-d181a3f028df",
   "metadata": {},
   "outputs": [],
   "source": [
    "import requests\n",
    "from bs4 import BeautifulSoup\n",
    "import pandas as pd\n",
    "import csv\n",
    "\n",
    "r = requests.get('https://e-service.cwb.gov.tw/HistoryDataQuery/MonthDataController.do?command=viewMain&station=466910&stname=%25E9%259E%258D%25E9%2583%25A8&datepicker=2019-08')\n",
    "csvfile=\"test.csv\"\n",
    "r.encoding=\"utf-8\"\n",
    "soup=BeautifulSoup(r.text,\"lxml\")\n",
    "tag_table=soup.find(id=\"MyTable\")\n",
    "rows=tag_table.findAll(\"tr\")\n",
    "\n",
    "with open(csvfile,\"w+\",newline=\"\",encoding=\"utf-8\") as fp:\n",
    "    writer=csv.writer(fp)\n",
    "    for row in rows:\n",
    "        rowList=[]\n",
    "        for cell in row.findAll([\"td\",\"th\"]):\n",
    "            rowList.append(cell.get_text().replace(\"\\n\",\"\").replace(\"\\r\",\"\"))\n",
    "        writer.writerow(rowList)"
   ]
  },
  {
   "cell_type": "code",
   "execution_count": 16,
   "id": "08a1b026-de11-4acd-8017-8fce338edfd1",
   "metadata": {},
   "outputs": [
    {
     "data": {
      "text/plain": [
       "'3.8\\xa0'"
      ]
     },
     "execution_count": 16,
     "metadata": {},
     "output_type": "execute_result"
    }
   ],
   "source": [
    "cell.get_text().replace('\\n','').replace('\\r','')"
   ]
  },
  {
   "cell_type": "code",
   "execution_count": null,
   "id": "604050cf-93eb-404c-a9b2-26d0d2e6ec54",
   "metadata": {},
   "outputs": [],
   "source": []
  }
 ],
 "metadata": {
  "kernelspec": {
   "display_name": "Python (obspy)",
   "language": "python",
   "name": "obspy-39"
  },
  "language_info": {
   "codemirror_mode": {
    "name": "ipython",
    "version": 3
   },
   "file_extension": ".py",
   "mimetype": "text/x-python",
   "name": "python",
   "nbconvert_exporter": "python",
   "pygments_lexer": "ipython3",
   "version": "3.9.9"
  }
 },
 "nbformat": 4,
 "nbformat_minor": 5
}
